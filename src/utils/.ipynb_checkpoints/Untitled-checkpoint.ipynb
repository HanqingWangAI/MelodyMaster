{
 "cells": [
  {
   "cell_type": "code",
   "execution_count": 3,
   "metadata": {
    "collapsed": true
   },
   "outputs": [],
   "source": [
    "import StdNote\n",
    "\n",
    "threshold = 0.25"
   ]
  },
  {
   "cell_type": "code",
   "execution_count": 36,
   "metadata": {
    "collapsed": false
   },
   "outputs": [],
   "source": [
    "class ChordTranslator():\n",
    "    def __init__(self):\n",
    "        self.note = {'C': 0, 'D': 2, 'E': 4, 'F': 5, 'G': 7, 'A': 9, 'B': 11, 'Z': -2}\n",
    "        # C G F Am Em Dm G7\n",
    "        self.chord = ((0, 4, 7),(7, 11, 2), (5, 9, 0), (9, 0, 4), (4, 7, 11), (2, 5, 9),(7, 11, 5))\n",
    "\n",
    "    def translateNotesFeature(self, duration, frequency):\n",
    "        for i in range(StdNote.NOTENUM):\n",
    "            frequency[i] += int(duration[i] / threshold)\n",
    "        \n",
    "        \n",
    "        chordFreq = [0 for _ in range(len(self.chord))]\n",
    "        for i, c in enumerate(self.chord):\n",
    "            for chordNoteId in c:\n",
    "                chordFreq [i] += frequency[chordNoteId]\n",
    "        maxFreq = 0\n",
    "        chordId = 0\n",
    "        for index in range(len(chordFreq)):\n",
    "            if(chordFreq[index] > maxFreq):\n",
    "                chordId = index\n",
    "                maxFreq = chordFreq[index]\n",
    "\n",
    "        return chordId\n",
    "        \n",
    "    def translateABar(self,notes):\n",
    "        for item in notes:\n",
    "            duration += item.duration\n",
    "            frequency += item.frequency\n",
    "        id = translateNotesFeature(duration, frequency)\n",
    "        return chordId\n"
   ]
  },
  {
   "cell_type": "code",
   "execution_count": 43,
   "metadata": {
    "collapsed": false
   },
   "outputs": [
    {
     "name": "stdout",
     "output_type": "stream",
     "text": [
      "5\n"
     ]
    }
   ],
   "source": [
    "if __name__ == '__main__':\n",
    "    a = ChordTranslator()\n",
    "    id = a.translateNotesFeature([0,0,0.25,0,0,0.25,0,0,0,0.25,0,0], [0,0,1,0,0,1,0,0,0,1,0,0])\n",
    "    print(id)"
   ]
  },
  {
   "cell_type": "code",
   "execution_count": null,
   "metadata": {
    "collapsed": true
   },
   "outputs": [],
   "source": []
  }
 ],
 "metadata": {
  "kernelspec": {
   "display_name": "Python 2",
   "language": "python",
   "name": "python2"
  },
  "language_info": {
   "codemirror_mode": {
    "name": "ipython",
    "version": 2
   },
   "file_extension": ".py",
   "mimetype": "text/x-python",
   "name": "python",
   "nbconvert_exporter": "python",
   "pygments_lexer": "ipython2",
   "version": "2.7.13"
  }
 },
 "nbformat": 4,
 "nbformat_minor": 2
}
